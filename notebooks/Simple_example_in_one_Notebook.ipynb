{
 "cells": [
  {
   "cell_type": "markdown",
   "metadata": {
    "ExecuteTime": {
     "end_time": "2020-01-21T14:32:42.313440Z",
     "start_time": "2020-01-21T14:32:42.306468Z"
    }
   },
   "source": [
    "# Simple example in one Notebook\n"
   ]
  },
  {
   "cell_type": "markdown",
   "metadata": {},
   "source": [
    "## Imports"
   ]
  },
  {
   "cell_type": "code",
   "execution_count": 24,
   "metadata": {
    "ExecuteTime": {
     "end_time": "2020-01-21T15:38:15.148206Z",
     "start_time": "2020-01-21T15:38:15.143890Z"
    }
   },
   "outputs": [],
   "source": [
    "import pandas as pd\n",
    "import os\n",
    "import requests\n",
    "import numpy as np\n",
    "import yaml\n",
    "import logging\n",
    "from sklearn.metrics import roc_auc_score\n",
    "from crosspredict.iterator import Iterator\n",
    "from crosspredict.crossval import CrossLightgbmModel\n",
    "from crosspredict.target_encoder import CrossTargetEncoder, TargetEncoder\n",
    "from category_encoders import WOEEncoder\n",
    "logging.basicConfig(level=logging.INFO)"
   ]
  },
  {
   "cell_type": "markdown",
   "metadata": {},
   "source": [
    "## Load data"
   ]
  },
  {
   "cell_type": "code",
   "execution_count": 11,
   "metadata": {
    "ExecuteTime": {
     "end_time": "2020-01-21T15:18:55.229813Z",
     "start_time": "2020-01-21T15:18:54.575865Z"
    }
   },
   "outputs": [],
   "source": [
    "file_url = 'https://boosters.pro/api/ch/files/pub/onetwotrip_challenge_train.csv'\n",
    "file_path = '../tests/onetwotrip_challenge_train.csv'\n",
    "if os.path.isfile(file_path)!=True:\n",
    "    myfile = requests.get(file_url)\n",
    "    open(file_path, 'wb').write(myfile.content)\n",
    "    \n",
    "df = pd.read_csv('../tests/onetwotrip_challenge_train.csv')\n",
    "\n",
    "\n",
    "unique_clients = pd.Series(df['userid'].unique())\n",
    "test_users = unique_clients.sample(frac=0.2,random_state=0)\n",
    "val_idx = df['userid'].isin(test_users)\n",
    "test = df[val_idx].copy()\n",
    "train = df[~val_idx].copy()"
   ]
  },
  {
   "cell_type": "markdown",
   "metadata": {},
   "source": [
    "## Example"
   ]
  },
  {
   "cell_type": "code",
   "execution_count": 16,
   "metadata": {
    "ExecuteTime": {
     "end_time": "2020-01-21T15:20:40.570108Z",
     "start_time": "2020-01-21T15:18:58.774225Z"
    }
   },
   "outputs": [],
   "source": [
    "iter_df = Iterator(n_repeats=3,\n",
    "                    n_splits=10,\n",
    "                    random_state = 0,\n",
    "                    col_client = 'userid',\n",
    "                    cv_byclient=True)\n",
    "\n",
    "cross_encoder = CrossTargetEncoder(iterator = iter_df,\n",
    "                                    encoder_class=WOEEncoder,\n",
    "                                    n_splits= 5,\n",
    "                                    n_repeats= 3,\n",
    "                                    random_state= 0,\n",
    "                                    col_client= 'userid',\n",
    "                                    cv_byclient= True,\n",
    "                                    col_encoded= 'goal1',\n",
    "                                    cols= ['field3','field2','field11','field23','field18','field20']\n",
    "                                  )\n",
    "cross_encoder.fit(train)"
   ]
  },
  {
   "cell_type": "code",
   "execution_count": 21,
   "metadata": {
    "ExecuteTime": {
     "end_time": "2020-01-21T15:20:55.573277Z",
     "start_time": "2020-01-21T15:20:55.568346Z"
    }
   },
   "outputs": [],
   "source": [
    "feature_name = df.columns.values\n",
    "feature_name = np.delete(feature_name, np.argwhere(feature_name == 'goal1'))\n",
    "feature_name = np.delete(feature_name, np.argwhere(feature_name == 'orderid'))\n",
    "feature_name = np.delete(feature_name, np.argwhere(feature_name == 'userid'))\n",
    "\n",
    "feature_name = np.append(feature_name,cross_encoder._targetencoded_cols)\n",
    "params= {'bagging_fraction': 0.849285747554019,\n",
    "  'bagging_freq': 5,\n",
    "  'bagging_seed': 0,\n",
    "  'boosting_type': 'gbdt',\n",
    "  'data_random_seed': 0,\n",
    "  'drop_seed': 0,\n",
    "  'feature_fraction': 0.8212766928844304,\n",
    "  'feature_fraction_seed': 0,\n",
    "  'lambda_l1': 0.8955546599539566,\n",
    "  'lambda_l2': 1.4423261095989717,\n",
    "  'learning_rate': 0.03,\n",
    "  'max_bin': 255,\n",
    "  'max_depth': 43,\n",
    "  'metric': 'auc',\n",
    "  'min_data_in_leaf': 149,\n",
    "  'min_sum_hessian_in_leaf': 1.804477623298885,\n",
    "  'num_leaves': 363,\n",
    "  'objective': 'binary',\n",
    "  'seed': 0,\n",
    "  'verbose': -1}"
   ]
  },
  {
   "cell_type": "code",
   "execution_count": 22,
   "metadata": {
    "ExecuteTime": {
     "end_time": "2020-01-21T15:24:39.067609Z",
     "start_time": "2020-01-21T15:20:55.575246Z"
    },
    "scrolled": true
   },
   "outputs": [
    {
     "name": "stderr",
     "output_type": "stream",
     "text": [
      "INFO:crosspredict.crossval:{'bagging_fraction': 0.849285747554019, 'bagging_freq': 5, 'bagging_seed': 0, 'boosting_type': 'gbdt', 'data_random_seed': 0, 'drop_seed': 0, 'feature_fraction': 0.8212766928844304, 'feature_fraction_seed': 0, 'lambda_l1': 0.8955546599539566, 'lambda_l2': 1.4423261095989717, 'learning_rate': 0.03, 'max_bin': 255, 'max_depth': 43, 'metric': 'auc', 'min_data_in_leaf': 149, 'min_sum_hessian_in_leaf': 1.804477623298885, 'num_leaves': 363, 'objective': 'binary', 'seed': 0, 'verbose': -1}\n",
      "INFO:crosspredict.crossval:REPEAT FOLDS 0 START\n",
      "INFO:crosspredict.crossval:\tCROSSVALIDATION FOLD 0 ENDS with best ROCAUC = 0.6734054055913427\n",
      "INFO:crosspredict.crossval:\tCROSSVALIDATION FOLD 1 ENDS with best ROCAUC = 0.7088453015540618\n",
      "INFO:crosspredict.crossval:\tCROSSVALIDATION FOLD 2 ENDS with best ROCAUC = 0.7035198128758369\n",
      "INFO:crosspredict.crossval:\tCROSSVALIDATION FOLD 3 ENDS with best ROCAUC = 0.7284390475678703\n",
      "INFO:crosspredict.crossval:\tCROSSVALIDATION FOLD 4 ENDS with best ROCAUC = 0.6839663850240538\n",
      "INFO:crosspredict.crossval:\tCROSSVALIDATION FOLD 5 ENDS with best ROCAUC = 0.6907931579757912\n",
      "INFO:crosspredict.crossval:\tCROSSVALIDATION FOLD 6 ENDS with best ROCAUC = 0.7155053278923382\n",
      "INFO:crosspredict.crossval:\tCROSSVALIDATION FOLD 7 ENDS with best ROCAUC = 0.7064908613389076\n",
      "INFO:crosspredict.crossval:\tCROSSVALIDATION FOLD 8 ENDS with best ROCAUC = 0.6960678210678211\n",
      "INFO:crosspredict.crossval:\tCROSSVALIDATION FOLD 9 ENDS with best ROCAUC = 0.7255113927997716\n",
      "INFO:crosspredict.crossval:REPEAT FOLDS 1 START\n",
      "INFO:crosspredict.crossval:\tCROSSVALIDATION FOLD 0 ENDS with best ROCAUC = 0.6992041198501873\n",
      "INFO:crosspredict.crossval:\tCROSSVALIDATION FOLD 1 ENDS with best ROCAUC = 0.6824499130088217\n",
      "INFO:crosspredict.crossval:\tCROSSVALIDATION FOLD 2 ENDS with best ROCAUC = 0.7127641955039515\n",
      "INFO:crosspredict.crossval:\tCROSSVALIDATION FOLD 3 ENDS with best ROCAUC = 0.7084232166823495\n",
      "INFO:crosspredict.crossval:\tCROSSVALIDATION FOLD 4 ENDS with best ROCAUC = 0.6872578921634346\n",
      "INFO:crosspredict.crossval:\tCROSSVALIDATION FOLD 5 ENDS with best ROCAUC = 0.7109219739038242\n",
      "INFO:crosspredict.crossval:\tCROSSVALIDATION FOLD 6 ENDS with best ROCAUC = 0.7008187692795468\n",
      "INFO:crosspredict.crossval:\tCROSSVALIDATION FOLD 7 ENDS with best ROCAUC = 0.6890644922045386\n",
      "INFO:crosspredict.crossval:\tCROSSVALIDATION FOLD 8 ENDS with best ROCAUC = 0.7187227959518332\n",
      "INFO:crosspredict.crossval:\tCROSSVALIDATION FOLD 9 ENDS with best ROCAUC = 0.6884426696731287\n",
      "INFO:crosspredict.crossval:REPEAT FOLDS 2 START\n",
      "INFO:crosspredict.crossval:\tCROSSVALIDATION FOLD 0 ENDS with best ROCAUC = 0.6880461956437558\n",
      "INFO:crosspredict.crossval:\tCROSSVALIDATION FOLD 1 ENDS with best ROCAUC = 0.6990867800660959\n",
      "INFO:crosspredict.crossval:\tCROSSVALIDATION FOLD 2 ENDS with best ROCAUC = 0.7042258124750294\n",
      "INFO:crosspredict.crossval:\tCROSSVALIDATION FOLD 3 ENDS with best ROCAUC = 0.7130793833061525\n",
      "INFO:crosspredict.crossval:\tCROSSVALIDATION FOLD 4 ENDS with best ROCAUC = 0.6823202954509903\n",
      "INFO:crosspredict.crossval:\tCROSSVALIDATION FOLD 5 ENDS with best ROCAUC = 0.6939032969980355\n",
      "INFO:crosspredict.crossval:\tCROSSVALIDATION FOLD 6 ENDS with best ROCAUC = 0.6922452990801009\n",
      "INFO:crosspredict.crossval:\tCROSSVALIDATION FOLD 7 ENDS with best ROCAUC = 0.7185549977852164\n",
      "INFO:crosspredict.crossval:\tCROSSVALIDATION FOLD 8 ENDS with best ROCAUC = 0.7021047835248356\n",
      "INFO:crosspredict.crossval:\tCROSSVALIDATION FOLD 9 ENDS with best ROCAUC = 0.7129128739533513\n",
      "INFO:crosspredict.crossval:{'loss': -0.6981930628773918, 'status': 'ok', 'std': 0.013964530057458985, 'score_max': 0.6981930628773918, 'scores_all': [0.6734054055913427, 0.7088453015540618, 0.7035198128758369, 0.7284390475678703, 0.6839663850240538, 0.6907931579757912, 0.7155053278923382, 0.7064908613389076, 0.6960678210678211, 0.7255113927997716, 0.6992041198501873, 0.6824499130088217, 0.7127641955039515, 0.7084232166823495, 0.6872578921634346, 0.7109219739038242, 0.7008187692795468, 0.6890644922045386, 0.7187227959518332, 0.6884426696731287, 0.6880461956437558, 0.6990867800660959, 0.7042258124750294, 0.7130793833061525, 0.6823202954509903, 0.6939032969980355, 0.6922452990801009, 0.7185549977852164, 0.7021047835248356, 0.7129128739533513], 'num_boost': 51}\n"
     ]
    }
   ],
   "source": [
    "model_class = CrossLightgbmModel(iterator=iter_df, \n",
    "                                 feature_name=feature_name,\n",
    "                                params=params,\n",
    "                                cols_cat = ['field3', 'field2', 'field11', 'field23', 'field18', 'field20'],\n",
    "                                num_boost_round = 9999,\n",
    "                                early_stopping_rounds = 50,\n",
    "                                valid = True,\n",
    "                                random_state = 0,\n",
    "                                col_target = 'goal1',\n",
    "                                cross_target_encoder = cross_encoder)\n",
    "result = model_class.fit(train)"
   ]
  },
  {
   "cell_type": "code",
   "execution_count": 23,
   "metadata": {
    "ExecuteTime": {
     "end_time": "2020-01-21T15:24:54.716083Z",
     "start_time": "2020-01-21T15:24:39.072138Z"
    }
   },
   "outputs": [
    {
     "name": "stdout",
     "output_type": "stream",
     "text": [
      "0.713787816937655 {'loss': -0.6981930628773918, 'status': 'ok', 'std': 0.013964530057458985, 'score_max': 0.6981930628773918, 'scores_all': [0.6734054055913427, 0.7088453015540618, 0.7035198128758369, 0.7284390475678703, 0.6839663850240538, 0.6907931579757912, 0.7155053278923382, 0.7064908613389076, 0.6960678210678211, 0.7255113927997716, 0.6992041198501873, 0.6824499130088217, 0.7127641955039515, 0.7084232166823495, 0.6872578921634346, 0.7109219739038242, 0.7008187692795468, 0.6890644922045386, 0.7187227959518332, 0.6884426696731287, 0.6880461956437558, 0.6990867800660959, 0.7042258124750294, 0.7130793833061525, 0.6823202954509903, 0.6939032969980355, 0.6922452990801009, 0.7185549977852164, 0.7021047835248356, 0.7129128739533513], 'num_boost': 51}\n"
     ]
    }
   ],
   "source": [
    "print(roc_auc_score(test['goal1'],model_class.predict(test)), result)"
   ]
  }
 ],
 "metadata": {
  "kernelspec": {
   "display_name": "pyenv_onetwotrip",
   "language": "python",
   "name": "pyenv_onetwotrip"
  },
  "language_info": {
   "codemirror_mode": {
    "name": "ipython",
    "version": 3
   },
   "file_extension": ".py",
   "mimetype": "text/x-python",
   "name": "python",
   "nbconvert_exporter": "python",
   "pygments_lexer": "ipython3",
   "version": "3.7.5"
  },
  "toc": {
   "base_numbering": 1,
   "nav_menu": {},
   "number_sections": true,
   "sideBar": true,
   "skip_h1_title": false,
   "title_cell": "Table of Contents",
   "title_sidebar": "Contents",
   "toc_cell": false,
   "toc_position": {},
   "toc_section_display": true,
   "toc_window_display": false
  }
 },
 "nbformat": 4,
 "nbformat_minor": 2
}
