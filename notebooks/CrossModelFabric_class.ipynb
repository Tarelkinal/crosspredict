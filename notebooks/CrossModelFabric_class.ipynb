{
 "cells": [
  {
   "cell_type": "markdown",
   "metadata": {},
   "source": [
    "# CrossModelFabric class"
   ]
  },
  {
   "cell_type": "markdown",
   "metadata": {},
   "source": [
    "`CrossModelFabric` - abstract fabric for easy crossvalidation\n",
    "\n",
    "Notebook contains examples for `CrossLightgbmModel`, but there are `CrossXgboostModel` option as well!\n",
    "\n",
    "* CrossModelFabric.fit() fits models for each fold with early_stopping. Finds optimal num_boost parameter\n",
    "* CrossModelFabric.transform() - calculates OOF predictions for train data (with num_boost parameter)\n",
    "* CrossModelFabric.predict() - calculates predictions test data (with num_boost parameter)\n",
    "* CrossModelFabric.get_hyperopt_space() - returns hyperopt space\n",
    "* CrossModelFabric.shap() - returns figure with barplot of avg shap values for all folds\n",
    "* CrossModelFabric.shap_summary_plot() - returns figure with shap_summary for specific dataset of model[0]\n"
   ]
  },
  {
   "cell_type": "markdown",
   "metadata": {},
   "source": [
    "## Imports"
   ]
  },
  {
   "cell_type": "code",
   "execution_count": 1,
   "metadata": {
    "ExecuteTime": {
     "end_time": "2020-01-21T14:20:29.593396Z",
     "start_time": "2020-01-21T14:20:28.203623Z"
    }
   },
   "outputs": [],
   "source": [
    "import pandas as pd\n",
    "import os\n",
    "import requests\n",
    "import numpy as np\n",
    "import yaml\n",
    "import logging\n",
    "from sklearn.metrics import roc_auc_score\n",
    "from crosspredict.iterator import Iterator\n",
    "from crosspredict.crossval import CrossLightgbmModel\n",
    "logging.basicConfig(level=logging.INFO)"
   ]
  },
  {
   "cell_type": "markdown",
   "metadata": {},
   "source": [
    "## Load data"
   ]
  },
  {
   "cell_type": "code",
   "execution_count": 2,
   "metadata": {
    "ExecuteTime": {
     "end_time": "2020-01-21T14:20:30.348914Z",
     "start_time": "2020-01-21T14:20:29.595148Z"
    }
   },
   "outputs": [],
   "source": [
    "file_url = 'https://boosters.pro/api/ch/files/pub/onetwotrip_challenge_train.csv'\n",
    "file_path = '../tests/onetwotrip_challenge_train.csv'\n",
    "if os.path.isfile(file_path)!=True:\n",
    "    myfile = requests.get(file_url)\n",
    "    open(file_path, 'wb').write(myfile.content)\n",
    "    \n",
    "df = pd.read_csv('../tests/onetwotrip_challenge_train.csv')\n",
    "\n",
    "\n",
    "unique_clients = pd.Series(df['userid'].unique())\n",
    "test_users = unique_clients.sample(frac=0.2,random_state=0)\n",
    "val_idx = df['userid'].isin(test_users)\n",
    "test = df[val_idx].copy()\n",
    "train = df[~val_idx].copy()"
   ]
  },
  {
   "cell_type": "markdown",
   "metadata": {},
   "source": [
    "## Parameters"
   ]
  },
  {
   "cell_type": "code",
   "execution_count": 3,
   "metadata": {
    "ExecuteTime": {
     "end_time": "2020-01-21T14:20:30.356023Z",
     "start_time": "2020-01-21T14:20:30.350497Z"
    }
   },
   "outputs": [],
   "source": [
    "feature_name = df.columns.values\n",
    "feature_name = np.delete(feature_name, np.argwhere(feature_name == 'goal1'))\n",
    "feature_name = np.delete(feature_name, np.argwhere(feature_name == 'orderid'))\n",
    "feature_name = np.delete(feature_name, np.argwhere(feature_name == 'userid'))\n",
    "\n",
    "params= {'bagging_fraction': 0.849285747554019,\n",
    "  'bagging_freq': 5,\n",
    "  'bagging_seed': 0,\n",
    "  'boosting_type': 'gbdt',\n",
    "  'data_random_seed': 0,\n",
    "  'drop_seed': 0,\n",
    "  'feature_fraction': 0.8212766928844304,\n",
    "  'feature_fraction_seed': 0,\n",
    "  'lambda_l1': 0.8955546599539566,\n",
    "  'lambda_l2': 1.4423261095989717,\n",
    "  'learning_rate': 0.03,\n",
    "  'max_bin': 255,\n",
    "  'max_depth': 43,\n",
    "  'metric': 'auc',\n",
    "  'min_data_in_leaf': 149,\n",
    "  'min_sum_hessian_in_leaf': 1.804477623298885,\n",
    "  'num_leaves': 363,\n",
    "  'objective': 'binary',\n",
    "  'seed': 0,\n",
    "  'verbose': -1}"
   ]
  },
  {
   "cell_type": "markdown",
   "metadata": {},
   "source": [
    "## Crossvalidation by `col_client` column (rows from each users goes in specific fold)"
   ]
  },
  {
   "cell_type": "markdown",
   "metadata": {},
   "source": [
    "### fit model on train data"
   ]
  },
  {
   "cell_type": "code",
   "execution_count": 4,
   "metadata": {
    "ExecuteTime": {
     "end_time": "2020-01-21T14:22:58.673036Z",
     "start_time": "2020-01-21T14:20:30.357298Z"
    },
    "scrolled": true
   },
   "outputs": [
    {
     "name": "stderr",
     "output_type": "stream",
     "text": [
      "Using RepeatedKFold by column group \"userid\"\n",
      "INFO:crosspredict.crossval:{'bagging_fraction': 0.849285747554019, 'bagging_freq': 5, 'bagging_seed': 0, 'boosting_type': 'gbdt', 'data_random_seed': 0, 'drop_seed': 0, 'feature_fraction': 0.8212766928844304, 'feature_fraction_seed': 0, 'lambda_l1': 0.8955546599539566, 'lambda_l2': 1.4423261095989717, 'learning_rate': 0.03, 'max_bin': 255, 'max_depth': 43, 'metric': 'auc', 'min_data_in_leaf': 149, 'min_sum_hessian_in_leaf': 1.804477623298885, 'num_leaves': 363, 'objective': 'binary', 'seed': 0, 'verbose': -1}\n",
      "INFO:crosspredict.crossval:REPEAT FOLDS 0 START\n",
      "INFO:crosspredict.crossval:\tCROSSVALIDATION FOLD 0 ENDS with best ROCAUC = 0.697301828294343\n",
      "INFO:crosspredict.crossval:\tCROSSVALIDATION FOLD 1 ENDS with best ROCAUC = 0.6972290051903695\n",
      "INFO:crosspredict.crossval:\tCROSSVALIDATION FOLD 2 ENDS with best ROCAUC = 0.7077976895321761\n",
      "INFO:crosspredict.crossval:REPEAT FOLDS 1 START\n",
      "INFO:crosspredict.crossval:\tCROSSVALIDATION FOLD 0 ENDS with best ROCAUC = 0.6977572363632991\n",
      "INFO:crosspredict.crossval:\tCROSSVALIDATION FOLD 1 ENDS with best ROCAUC = 0.7060994308412251\n",
      "INFO:crosspredict.crossval:\tCROSSVALIDATION FOLD 2 ENDS with best ROCAUC = 0.6963671472236923\n",
      "INFO:crosspredict.crossval:REPEAT FOLDS 2 START\n",
      "INFO:crosspredict.crossval:\tCROSSVALIDATION FOLD 0 ENDS with best ROCAUC = 0.698132614504838\n",
      "INFO:crosspredict.crossval:\tCROSSVALIDATION FOLD 1 ENDS with best ROCAUC = 0.6969982720983842\n",
      "INFO:crosspredict.crossval:\tCROSSVALIDATION FOLD 2 ENDS with best ROCAUC = 0.7176314682411897\n",
      "INFO:crosspredict.crossval:{'loss': -0.7009149200802658, 'status': 'ok', 'std': 0.00707587736681883, 'score_max': 0.7009149200802658, 'scores_all': [0.697301828294343, 0.6972290051903695, 0.7077976895321761, 0.6977572363632991, 0.7060994308412251, 0.6963671472236923, 0.698132614504838, 0.6969982720983842, 0.7176314682411897], 'num_boost': 60}\n"
     ]
    }
   ],
   "source": [
    "iter_df = Iterator(n_repeats=3,\n",
    "                    n_splits=3,\n",
    "                    random_state = 0,\n",
    "                    col_client = 'userid',\n",
    "                    cv_byclient=True)\n",
    "\n",
    "model_class = CrossLightgbmModel(iterator=iter_df, \n",
    "                                 feature_name=feature_name,\n",
    "                                params=params,\n",
    "                                cols_cat = ['field3', 'field2', 'field11', 'field23', 'field18', 'field20'],\n",
    "                                num_boost_round = 9999,\n",
    "                                early_stopping_rounds = 50,\n",
    "                                valid = True,\n",
    "                                random_state = 0,\n",
    "                                col_target = 'goal1',)\n",
    "result = model_class.fit(train)\n",
    "\n",
    "# `fit` method returns loss from optimal num_boost parameter\n",
    "# optimal num_boost for cross validation:\n",
    "# - removes roc_auc metrics if at least one fold stopped before (early_stopping)\n",
    "# - calculates avg roc_auc on all folds on each num_boost\n",
    "# - argmax value"
   ]
  },
  {
   "cell_type": "markdown",
   "metadata": {},
   "source": [
    "### predict on test data"
   ]
  },
  {
   "cell_type": "code",
   "execution_count": 5,
   "metadata": {
    "ExecuteTime": {
     "end_time": "2020-01-21T14:22:59.647460Z",
     "start_time": "2020-01-21T14:22:58.674560Z"
    }
   },
   "outputs": [
    {
     "data": {
      "text/plain": [
       "3         0.029087\n",
       "6         0.021241\n",
       "9         0.024901\n",
       "12        0.009496\n",
       "14        0.011062\n",
       "            ...   \n",
       "196039    0.021094\n",
       "196042    0.027103\n",
       "196045    0.010621\n",
       "196046    0.012720\n",
       "196048    0.021069\n",
       "Name: PREDICT, Length: 38859, dtype: float64"
      ]
     },
     "execution_count": 5,
     "metadata": {},
     "output_type": "execute_result"
    }
   ],
   "source": [
    "# returns predctions from optimal num_boost parameter (mean prediction from all models)\n",
    "model_class.predict(test)"
   ]
  },
  {
   "cell_type": "code",
   "execution_count": 6,
   "metadata": {
    "ExecuteTime": {
     "end_time": "2020-01-21T14:23:00.630360Z",
     "start_time": "2020-01-21T14:22:59.650407Z"
    }
   },
   "outputs": [
    {
     "data": {
      "text/plain": [
       "0.7189406147162991"
      ]
     },
     "execution_count": 6,
     "metadata": {},
     "output_type": "execute_result"
    }
   ],
   "source": [
    "roc_auc_score(test['goal1'],model_class.predict(test))"
   ]
  },
  {
   "cell_type": "markdown",
   "metadata": {
    "ExecuteTime": {
     "end_time": "2020-01-21T13:43:18.402606Z",
     "start_time": "2020-01-21T13:40:56.713Z"
    }
   },
   "source": [
    "### predict on train data. (OOF - out of fold prediction)"
   ]
  },
  {
   "cell_type": "code",
   "execution_count": 7,
   "metadata": {
    "ExecuteTime": {
     "end_time": "2020-01-21T14:23:02.726509Z",
     "start_time": "2020-01-21T14:23:00.632222Z"
    }
   },
   "outputs": [
    {
     "data": {
      "text/plain": [
       "0         0.018500\n",
       "1         0.031481\n",
       "2         0.011632\n",
       "4         0.020763\n",
       "5         0.016286\n",
       "            ...   \n",
       "196051    0.018088\n",
       "196052    0.012538\n",
       "196053    0.019197\n",
       "196054    0.042271\n",
       "196055    0.014101\n",
       "Name: PREDICT, Length: 157197, dtype: float64"
      ]
     },
     "execution_count": 7,
     "metadata": {},
     "output_type": "execute_result"
    }
   ],
   "source": [
    "model_class.transform(train)\n",
    "\n",
    "# returns OOF predctions from optimal num_boost parameter \n",
    "# (mean prediction if n_repeats>1, because there are more than one model that can predict each row)"
   ]
  },
  {
   "cell_type": "code",
   "execution_count": 8,
   "metadata": {
    "ExecuteTime": {
     "end_time": "2020-01-21T14:23:04.606945Z",
     "start_time": "2020-01-21T14:23:02.728030Z"
    }
   },
   "outputs": [
    {
     "data": {
      "text/plain": [
       "0.7083991804553007"
      ]
     },
     "execution_count": 8,
     "metadata": {},
     "output_type": "execute_result"
    }
   ],
   "source": [
    "roc_auc_score(train['goal1'],model_class.transform(train))"
   ]
  },
  {
   "cell_type": "markdown",
   "metadata": {},
   "source": [
    "### hyperopt hyperparameter optimisation"
   ]
  },
  {
   "cell_type": "code",
   "execution_count": 9,
   "metadata": {
    "ExecuteTime": {
     "end_time": "2020-01-21T14:23:04.610871Z",
     "start_time": "2020-01-21T14:23:04.608397Z"
    }
   },
   "outputs": [],
   "source": [
    "# get standart hyperopt space for lightgbm\n",
    "space = model_class.get_hyperopt_space()"
   ]
  },
  {
   "cell_type": "code",
   "execution_count": 16,
   "metadata": {
    "ExecuteTime": {
     "end_time": "2020-01-21T14:29:44.325566Z",
     "start_time": "2020-01-21T14:29:44.320389Z"
    }
   },
   "outputs": [
    {
     "data": {
      "text/plain": [
       "{'num_leaves': <hyperopt.pyll.base.Apply at 0x7f89bec70e90>,\n",
       " 'max_depth': <hyperopt.pyll.base.Apply at 0x7f89bec6c2d0>,\n",
       " 'min_data_in_leaf': <hyperopt.pyll.base.Apply at 0x7f89bec6c4d0>,\n",
       " 'feature_fraction': <hyperopt.pyll.base.Apply at 0x7f89bec6c650>,\n",
       " 'bagging_fraction': <hyperopt.pyll.base.Apply at 0x7f89bec6c7d0>,\n",
       " 'min_sum_hessian_in_leaf': <hyperopt.pyll.base.Apply at 0x7f89bec6c950>,\n",
       " 'lambda_l1': <hyperopt.pyll.base.Apply at 0x7f89bec6cad0>,\n",
       " 'lambda_l2': <hyperopt.pyll.base.Apply at 0x7f89bec6cc50>,\n",
       " 'seed': 0,\n",
       " 'feature_fraction_seed': 0,\n",
       " 'bagging_seed': 0,\n",
       " 'drop_seed': 0,\n",
       " 'data_random_seed': 0,\n",
       " 'verbose': -1,\n",
       " 'bagging_freq': 5,\n",
       " 'max_bin': 255,\n",
       " 'learning_rate': 0.03,\n",
       " 'boosting_type': 'gbdt',\n",
       " 'objective': 'binary',\n",
       " 'metric': 'auc'}"
      ]
     },
     "execution_count": 16,
     "metadata": {},
     "output_type": "execute_result"
    }
   ],
   "source": [
    "space"
   ]
  },
  {
   "cell_type": "code",
   "execution_count": 10,
   "metadata": {
    "ExecuteTime": {
     "end_time": "2020-01-21T14:23:04.619873Z",
     "start_time": "2020-01-21T14:23:04.612318Z"
    }
   },
   "outputs": [
    {
     "name": "stdout",
     "output_type": "stream",
     "text": [
      "0 int\n",
      "1   float\n",
      "2     hyperopt_param\n",
      "3       Literal{num_leaves}\n",
      "4       quniform\n",
      "5         Literal{300}\n",
      "6         Literal{500}\n",
      "7         Literal{1}\n"
     ]
    }
   ],
   "source": [
    "print(str(space['num_leaves']))"
   ]
  },
  {
   "cell_type": "code",
   "execution_count": 11,
   "metadata": {
    "ExecuteTime": {
     "end_time": "2020-01-21T14:23:04.627162Z",
     "start_time": "2020-01-21T14:23:04.621232Z"
    }
   },
   "outputs": [],
   "source": [
    "from hyperopt import fmin, hp, tpe, Trials, space_eval, STATUS_OK, STATUS_RUNNING\n",
    "from hyperopt.pyll import scope\n",
    "\n",
    "# get standart hyperopt space for lightgbm with custom options\n",
    "space = model_class.get_hyperopt_space({'num_leaves': scope.int(hp.quniform('num_leaves', 100, 200, 1))})\n"
   ]
  },
  {
   "cell_type": "code",
   "execution_count": 12,
   "metadata": {
    "ExecuteTime": {
     "end_time": "2020-01-21T14:23:04.637995Z",
     "start_time": "2020-01-21T14:23:04.628780Z"
    }
   },
   "outputs": [
    {
     "name": "stdout",
     "output_type": "stream",
     "text": [
      "0 int\n",
      "1   float\n",
      "2     hyperopt_param\n",
      "3       Literal{num_leaves}\n",
      "4       quniform\n",
      "5         Literal{100}\n",
      "6         Literal{200}\n",
      "7         Literal{1}\n"
     ]
    }
   ],
   "source": [
    "print(str(space['num_leaves']))"
   ]
  },
  {
   "cell_type": "code",
   "execution_count": 13,
   "metadata": {
    "ExecuteTime": {
     "end_time": "2020-01-21T14:23:30.176677Z",
     "start_time": "2020-01-21T14:23:04.639459Z"
    }
   },
   "outputs": [
    {
     "name": "stdout",
     "output_type": "stream",
     "text": [
      "\r",
      "  0%|          | 0/2 [00:00<?, ?trial/s, best loss=?]"
     ]
    },
    {
     "name": "stderr",
     "output_type": "stream",
     "text": [
      "Using RepeatedKFold by column group \"userid\"\n",
      "INFO:hyperopt.tpe:build_posterior_wrapper took 0.002975 seconds\n",
      "INFO:hyperopt.tpe:TPE using 0 trials\n",
      "INFO:crosspredict.crossval:{'bagging_fraction': 0.9230857926783654, 'bagging_freq': 5, 'bagging_seed': 0, 'boosting_type': 'gbdt', 'data_random_seed': 0, 'drop_seed': 0, 'feature_fraction': 0.9920158580306366, 'feature_fraction_seed': 0, 'lambda_l1': 0.6803407372529847, 'lambda_l2': 0.3187092362014174, 'learning_rate': 0.03, 'max_bin': 255, 'max_depth': 53, 'metric': 'auc', 'min_data_in_leaf': 91, 'min_sum_hessian_in_leaf': 4.753894156420975, 'num_leaves': 119, 'objective': 'binary', 'seed': 0, 'verbose': -1}\n",
      "INFO:crosspredict.crossval:REPEAT FOLDS 0 START\n",
      "INFO:crosspredict.crossval:\tCROSSVALIDATION FOLD 0 ENDS with best ROCAUC = 0.6917724736953605\n",
      "INFO:crosspredict.crossval:\tCROSSVALIDATION FOLD 1 ENDS with best ROCAUC = 0.6981503974145464\n",
      "INFO:crosspredict.crossval:\tCROSSVALIDATION FOLD 2 ENDS with best ROCAUC = 0.6998738725344477\n",
      "INFO:crosspredict.crossval:{'loss': -0.6963528220111866, 'status': 'ok', 'std': 0.00402749360740368, 'score_max': 0.6963528220111866, 'scores_all': [0.6917724736953605, 0.6981503974145464, 0.6998738725344477], 'num_boost': 96}\n"
     ]
    },
    {
     "name": "stdout",
     "output_type": "stream",
     "text": [
      "\r",
      " 50%|█████     | 1/2 [00:12<00:12, 12.80s/trial, best loss: -0.6963528220111866]"
     ]
    },
    {
     "name": "stderr",
     "output_type": "stream",
     "text": [
      "INFO:hyperopt.tpe:build_posterior_wrapper took 0.004642 seconds\n",
      "INFO:hyperopt.tpe:TPE using 1/1 trials with best loss -0.696353\n",
      "INFO:crosspredict.crossval:{'bagging_fraction': 0.9905357561494915, 'bagging_freq': 5, 'bagging_seed': 0, 'boosting_type': 'gbdt', 'data_random_seed': 0, 'drop_seed': 0, 'feature_fraction': 0.8737863546856102, 'feature_fraction_seed': 0, 'lambda_l1': 0.975105842345082, 'lambda_l2': 1.6686950583315598, 'learning_rate': 0.03, 'max_bin': 255, 'max_depth': 13, 'metric': 'auc', 'min_data_in_leaf': 86, 'min_sum_hessian_in_leaf': 1.428615700376287, 'num_leaves': 152, 'objective': 'binary', 'seed': 0, 'verbose': -1}\n",
      "INFO:crosspredict.crossval:REPEAT FOLDS 0 START\n",
      "INFO:crosspredict.crossval:\tCROSSVALIDATION FOLD 0 ENDS with best ROCAUC = 0.6985478224903406\n",
      "INFO:crosspredict.crossval:\tCROSSVALIDATION FOLD 1 ENDS with best ROCAUC = 0.7016942586308145\n",
      "INFO:crosspredict.crossval:\tCROSSVALIDATION FOLD 2 ENDS with best ROCAUC = 0.7102799688122039\n",
      "INFO:crosspredict.crossval:{'loss': -0.7022219455448453, 'status': 'ok', 'std': 0.005249014913812784, 'score_max': 0.7022219455448453, 'scores_all': [0.6985478224903406, 0.7016942586308145, 0.7102799688122039], 'num_boost': 64}\n"
     ]
    },
    {
     "name": "stdout",
     "output_type": "stream",
     "text": [
      "100%|██████████| 2/2 [00:25<00:00, 12.76s/trial, best loss: -0.7022219455448453]\n",
      "{'bagging_fraction': 0.9905357561494915, 'bagging_freq': 5, 'bagging_seed': 0, 'boosting_type': 'gbdt', 'data_random_seed': 0, 'drop_seed': 0, 'feature_fraction': 0.8737863546856102, 'feature_fraction_seed': 0, 'lambda_l1': 0.975105842345082, 'lambda_l2': 1.6686950583315598, 'learning_rate': 0.03, 'max_bin': 255, 'max_depth': 13, 'metric': 'auc', 'min_data_in_leaf': 86, 'min_sum_hessian_in_leaf': 1.428615700376287, 'num_leaves': 152, 'objective': 'binary', 'seed': 0, 'verbose': -1}\n"
     ]
    }
   ],
   "source": [
    "iter_df = Iterator(n_repeats=1,\n",
    "                    n_splits=3,\n",
    "                    random_state = 0,\n",
    "                    col_client = 'userid',\n",
    "                    cv_byclient=True)\n",
    "\n",
    "def score(params):\n",
    "    cv_score = CrossLightgbmModel(iterator=iter_df, \n",
    "                                 feature_name=feature_name,\n",
    "                                params=params,\n",
    "                                cols_cat = ['field3', 'field2', 'field11', 'field23', 'field18', 'field20'],\n",
    "                                num_boost_round = 9999,\n",
    "                                early_stopping_rounds = 50,\n",
    "                                valid = True,\n",
    "                                random_state = 0,\n",
    "                                col_target = 'goal1',)\n",
    "    return cv_score.fit(df=train)\n",
    "\n",
    "trials = Trials()\n",
    "best = fmin(fn=score,\n",
    "            space=space,\n",
    "            algo=tpe.suggest,\n",
    "            trials=trials,\n",
    "            max_evals=2\n",
    "            )\n",
    "results = space_eval(space, best)\n",
    "print(results)"
   ]
  },
  {
   "cell_type": "markdown",
   "metadata": {},
   "source": [
    "### .shap() method - returns dataframe with avg shap values from each model in crossvalidation and its std + barplot"
   ]
  },
  {
   "cell_type": "code",
   "execution_count": 14,
   "metadata": {
    "ExecuteTime": {
     "end_time": "2020-01-21T14:23:43.495726Z",
     "start_time": "2020-01-21T14:23:30.178160Z"
    }
   },
   "outputs": [
    {
     "name": "stderr",
     "output_type": "stream",
     "text": [
      "Setting feature_perturbation = \"tree_path_dependent\" because no background data was given.\n",
      "LightGBM binary classifier with TreeExplainer shap values output has changed to a list of ndarray\n"
     ]
    },
    {
     "data": {
      "image/png": "[encoded data removed]",
      "text/plain": [
       "<Figure size 720x720 with 1 Axes>"
      ]
     },
     "metadata": {
      "needs_background": "light"
     },
     "output_type": "display_data"
    }
   ],
   "source": [
    "shap_df, fig = model_class.shap(train)"
   ]
  },
  {
   "cell_type": "markdown",
   "metadata": {},
   "source": [
    "### .shap_summary_plot() returns figure of shap's summary_plot() from model[0] on any dataframe"
   ]
  },
  {
   "cell_type": "code",
   "execution_count": 15,
   "metadata": {
    "ExecuteTime": {
     "end_time": "2020-01-21T14:23:44.904820Z",
     "start_time": "2020-01-21T14:23:43.497114Z"
    }
   },
   "outputs": [
    {
     "data": {
      "image/png": "[encoded data removed]",
      "text/plain": [
       "<Figure size 576x684 with 2 Axes>"
      ]
     },
     "metadata": {
      "needs_background": "light"
     },
     "output_type": "display_data"
    }
   ],
   "source": [
    "fig = model_class.shap_summary_plot(test)"
   ]
  },
  {
   "cell_type": "code",
   "execution_count": null,
   "metadata": {},
   "outputs": [],
   "source": []
  }
 ],
 "metadata": {
  "kernelspec": {
   "display_name": "kedro_test",
   "language": "python",
   "name": "kedro_test"
  },
  "language_info": {
   "codemirror_mode": {
    "name": "ipython",
    "version": 3
   },
   "file_extension": ".py",
   "mimetype": "text/x-python",
   "name": "python",
   "nbconvert_exporter": "python",
   "pygments_lexer": "ipython3",
   "version": "3.7.6"
  },
  "toc": {
   "base_numbering": 1,
   "nav_menu": {},
   "number_sections": true,
   "sideBar": true,
   "skip_h1_title": false,
   "title_cell": "Table of Contents",
   "title_sidebar": "Contents",
   "toc_cell": false,
   "toc_position": {},
   "toc_section_display": true,
   "toc_window_display": false
  }
 },
 "nbformat": 4,
 "nbformat_minor": 2
}
