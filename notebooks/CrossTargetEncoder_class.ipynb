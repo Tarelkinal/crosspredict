{
 "cells": [
  {
   "cell_type": "markdown",
   "metadata": {
    "ExecuteTime": {
     "end_time": "2020-01-21T14:32:42.313440Z",
     "start_time": "2020-01-21T14:32:42.306468Z"
    }
   },
   "source": [
    "# CrossTargetEncoder, TargetEncoder class"
   ]
  },
  {
   "cell_type": "markdown",
   "metadata": {},
   "source": [
    "`TargetEncoder` class implements target encoding for X_train X_val datasets\n",
    "\n",
    "`CrossTargetEncoder` class fits `TargetEncoder` for each fold "
   ]
  },
  {
   "cell_type": "markdown",
   "metadata": {},
   "source": [
    "## Imports"
   ]
  },
  {
   "cell_type": "code",
   "execution_count": 1,
   "metadata": {
    "ExecuteTime": {
     "end_time": "2020-02-14T14:09:09.164360Z",
     "start_time": "2020-02-14T14:09:08.081877Z"
    }
   },
   "outputs": [],
   "source": [
    "import pandas as pd\n",
    "import os\n",
    "import requests\n",
    "import numpy as np\n",
    "import yaml\n",
    "import logging\n",
    "from sklearn.metrics import roc_auc_score\n",
    "from crosspredict.iterator import Iterator\n",
    "from crosspredict.crossval import CrossLightgbmModel\n",
    "from crosspredict.target_encoder import CrossTargetEncoder, TargetEncoder\n",
    "from category_encoders import WOEEncoder\n",
    "logging.basicConfig(level=logging.INFO)"
   ]
  },
  {
   "cell_type": "markdown",
   "metadata": {},
   "source": [
    "## Load data"
   ]
  },
  {
   "cell_type": "code",
   "execution_count": 2,
   "metadata": {
    "ExecuteTime": {
     "end_time": "2020-02-14T14:09:10.173398Z",
     "start_time": "2020-02-14T14:09:09.452061Z"
    }
   },
   "outputs": [],
   "source": [
    "file_url = 'https://boosters.pro/api/ch/files/pub/onetwotrip_challenge_train.csv'\n",
    "file_path = '../tests/onetwotrip_challenge_train.csv'\n",
    "if os.path.isfile(file_path)!=True:\n",
    "    myfile = requests.get(file_url)\n",
    "    open(file_path, 'wb').write(myfile.content)\n",
    "    \n",
    "df = pd.read_csv('../tests/onetwotrip_challenge_train.csv')\n",
    "\n",
    "\n",
    "unique_clients = pd.Series(df['userid'].unique())\n",
    "test_users = unique_clients.sample(frac=0.2,random_state=0)\n",
    "val_idx = df['userid'].isin(test_users)\n",
    "test = df[val_idx].copy()\n",
    "train = df[~val_idx].copy()"
   ]
  },
  {
   "cell_type": "markdown",
   "metadata": {
    "ExecuteTime": {
     "end_time": "2020-01-21T14:52:35.060967Z",
     "start_time": "2020-01-21T14:52:35.054918Z"
    }
   },
   "source": [
    "## TargetEncoder example"
   ]
  },
  {
   "cell_type": "code",
   "execution_count": 3,
   "metadata": {
    "ExecuteTime": {
     "end_time": "2020-02-14T14:09:12.300847Z",
     "start_time": "2020-02-14T14:09:10.264170Z"
    }
   },
   "outputs": [
    {
     "name": "stderr",
     "output_type": "stream",
     "text": [
      "Using RepeatedKFold by column group \"userid\"\n"
     ]
    }
   ],
   "source": [
    "iter_df = Iterator(n_repeats=3,\n",
    "                    n_splits=10,\n",
    "                    random_state = 0,\n",
    "                    col_client = 'userid',\n",
    "                    cv_byclient=True)\n",
    "\n",
    "for i, (X_train, X_val) in enumerate(iter_df.split(train)):\n",
    "    pass"
   ]
  },
  {
   "cell_type": "code",
   "execution_count": 4,
   "metadata": {
    "ExecuteTime": {
     "end_time": "2020-02-14T14:09:12.900036Z",
     "start_time": "2020-02-14T14:09:12.302856Z"
    }
   },
   "outputs": [
    {
     "data": {
      "text/plain": [
       "<crosspredict.target_encoder._target_encoder.TargetEncoder at 0x7f581264f210>"
      ]
     },
     "execution_count": 4,
     "metadata": {},
     "output_type": "execute_result"
    }
   ],
   "source": [
    "# TargetEncoder have same parameters as Iterator \n",
    "# but it is needed for double cross validation in X_train dataset of single fold\n",
    "# + `cols` - columns to encode\n",
    "# + `col_encoded` - target column\n",
    "# + `encoder_class` - category_encoders class\n",
    "\n",
    "simple_encoder = TargetEncoder(encoder_class=WOEEncoder,\n",
    "                                n_splits= 3,\n",
    "                                n_repeats= 1,\n",
    "                                random_state= 0,\n",
    "                                col_client= 'userid',\n",
    "                                cv_byclient= True,\n",
    "                                col_encoded= 'goal1',\n",
    "                                cols= ['field1','field2','field3','field4']\n",
    "                              )\n",
    "simple_encoder.fit(X_train)"
   ]
  },
  {
   "cell_type": "code",
   "execution_count": 5,
   "metadata": {
    "ExecuteTime": {
     "end_time": "2020-02-14T14:09:14.950963Z",
     "start_time": "2020-02-14T14:09:14.590476Z"
    }
   },
   "outputs": [
    {
     "data": {
      "text/html": [
       "<div>\n",
       "<style scoped>\n",
       "    .dataframe tbody tr th:only-of-type {\n",
       "        vertical-align: middle;\n",
       "    }\n",
       "\n",
       "    .dataframe tbody tr th {\n",
       "        vertical-align: top;\n",
       "    }\n",
       "\n",
       "    .dataframe thead th {\n",
       "        text-align: right;\n",
       "    }\n",
       "</style>\n",
       "<table border=\"1\" class=\"dataframe\">\n",
       "  <thead>\n",
       "    <tr style=\"text-align: right;\">\n",
       "      <th></th>\n",
       "      <th>encoded_field1</th>\n",
       "      <th>encoded_field2</th>\n",
       "      <th>encoded_field3</th>\n",
       "      <th>encoded_field4</th>\n",
       "    </tr>\n",
       "  </thead>\n",
       "  <tbody>\n",
       "    <tr>\n",
       "      <th>0</th>\n",
       "      <td>-0.463403</td>\n",
       "      <td>0.093969</td>\n",
       "      <td>0.113434</td>\n",
       "      <td>0.078877</td>\n",
       "    </tr>\n",
       "    <tr>\n",
       "      <th>1</th>\n",
       "      <td>-0.213632</td>\n",
       "      <td>0.005103</td>\n",
       "      <td>0.078200</td>\n",
       "      <td>-0.050764</td>\n",
       "    </tr>\n",
       "    <tr>\n",
       "      <th>2</th>\n",
       "      <td>-0.252676</td>\n",
       "      <td>-0.198786</td>\n",
       "      <td>-0.049519</td>\n",
       "      <td>-0.065034</td>\n",
       "    </tr>\n",
       "    <tr>\n",
       "      <th>4</th>\n",
       "      <td>-0.021756</td>\n",
       "      <td>-0.052728</td>\n",
       "      <td>-0.134602</td>\n",
       "      <td>0.084184</td>\n",
       "    </tr>\n",
       "    <tr>\n",
       "      <th>5</th>\n",
       "      <td>-0.160879</td>\n",
       "      <td>0.045104</td>\n",
       "      <td>0.014076</td>\n",
       "      <td>0.078877</td>\n",
       "    </tr>\n",
       "    <tr>\n",
       "      <th>...</th>\n",
       "      <td>...</td>\n",
       "      <td>...</td>\n",
       "      <td>...</td>\n",
       "      <td>...</td>\n",
       "    </tr>\n",
       "    <tr>\n",
       "      <th>196049</th>\n",
       "      <td>-0.127791</td>\n",
       "      <td>0.062602</td>\n",
       "      <td>0.053194</td>\n",
       "      <td>0.094973</td>\n",
       "    </tr>\n",
       "    <tr>\n",
       "      <th>196050</th>\n",
       "      <td>-0.035787</td>\n",
       "      <td>0.121828</td>\n",
       "      <td>-0.085495</td>\n",
       "      <td>0.078877</td>\n",
       "    </tr>\n",
       "    <tr>\n",
       "      <th>196052</th>\n",
       "      <td>-0.249904</td>\n",
       "      <td>0.031877</td>\n",
       "      <td>-0.134602</td>\n",
       "      <td>-0.050764</td>\n",
       "    </tr>\n",
       "    <tr>\n",
       "      <th>196054</th>\n",
       "      <td>-0.200901</td>\n",
       "      <td>0.093969</td>\n",
       "      <td>0.144979</td>\n",
       "      <td>0.078877</td>\n",
       "    </tr>\n",
       "    <tr>\n",
       "      <th>196055</th>\n",
       "      <td>0.102048</td>\n",
       "      <td>-0.038417</td>\n",
       "      <td>-0.075452</td>\n",
       "      <td>0.065417</td>\n",
       "    </tr>\n",
       "  </tbody>\n",
       "</table>\n",
       "<p>141411 rows × 4 columns</p>\n",
       "</div>"
      ],
      "text/plain": [
       "        encoded_field1  encoded_field2  encoded_field3  encoded_field4\n",
       "0            -0.463403        0.093969        0.113434        0.078877\n",
       "1            -0.213632        0.005103        0.078200       -0.050764\n",
       "2            -0.252676       -0.198786       -0.049519       -0.065034\n",
       "4            -0.021756       -0.052728       -0.134602        0.084184\n",
       "5            -0.160879        0.045104        0.014076        0.078877\n",
       "...                ...             ...             ...             ...\n",
       "196049       -0.127791        0.062602        0.053194        0.094973\n",
       "196050       -0.035787        0.121828       -0.085495        0.078877\n",
       "196052       -0.249904        0.031877       -0.134602       -0.050764\n",
       "196054       -0.200901        0.093969        0.144979        0.078877\n",
       "196055        0.102048       -0.038417       -0.075452        0.065417\n",
       "\n",
       "[141411 rows x 4 columns]"
      ]
     },
     "execution_count": 5,
     "metadata": {},
     "output_type": "execute_result"
    }
   ],
   "source": [
    "# transform X_train dataset\n",
    "# (mean prediction if n_repeats>1, because there are more than one model that can predict each row)\n",
    "simple_encoder.transform(X_train)"
   ]
  },
  {
   "cell_type": "code",
   "execution_count": 6,
   "metadata": {
    "ExecuteTime": {
     "end_time": "2020-02-14T14:09:15.021874Z",
     "start_time": "2020-02-14T14:09:14.953084Z"
    },
    "scrolled": true
   },
   "outputs": [
    {
     "data": {
      "text/html": [
       "<div>\n",
       "<style scoped>\n",
       "    .dataframe tbody tr th:only-of-type {\n",
       "        vertical-align: middle;\n",
       "    }\n",
       "\n",
       "    .dataframe tbody tr th {\n",
       "        vertical-align: top;\n",
       "    }\n",
       "\n",
       "    .dataframe thead th {\n",
       "        text-align: right;\n",
       "    }\n",
       "</style>\n",
       "<table border=\"1\" class=\"dataframe\">\n",
       "  <thead>\n",
       "    <tr style=\"text-align: right;\">\n",
       "      <th></th>\n",
       "      <th>encoded_field1</th>\n",
       "      <th>encoded_field2</th>\n",
       "      <th>encoded_field3</th>\n",
       "      <th>encoded_field4</th>\n",
       "    </tr>\n",
       "  </thead>\n",
       "  <tbody>\n",
       "    <tr>\n",
       "      <th>16</th>\n",
       "      <td>-0.035520</td>\n",
       "      <td>-0.055500</td>\n",
       "      <td>0.042379</td>\n",
       "      <td>0.076159</td>\n",
       "    </tr>\n",
       "    <tr>\n",
       "      <th>22</th>\n",
       "      <td>-0.227570</td>\n",
       "      <td>-0.286093</td>\n",
       "      <td>-0.237577</td>\n",
       "      <td>-0.274263</td>\n",
       "    </tr>\n",
       "    <tr>\n",
       "      <th>24</th>\n",
       "      <td>-0.270356</td>\n",
       "      <td>0.030928</td>\n",
       "      <td>0.138657</td>\n",
       "      <td>0.076159</td>\n",
       "    </tr>\n",
       "    <tr>\n",
       "      <th>78</th>\n",
       "      <td>-0.177357</td>\n",
       "      <td>0.165028</td>\n",
       "      <td>-0.097532</td>\n",
       "      <td>0.076159</td>\n",
       "    </tr>\n",
       "    <tr>\n",
       "      <th>84</th>\n",
       "      <td>-0.512491</td>\n",
       "      <td>0.165028</td>\n",
       "      <td>-0.097532</td>\n",
       "      <td>0.076159</td>\n",
       "    </tr>\n",
       "    <tr>\n",
       "      <th>...</th>\n",
       "      <td>...</td>\n",
       "      <td>...</td>\n",
       "      <td>...</td>\n",
       "      <td>...</td>\n",
       "    </tr>\n",
       "    <tr>\n",
       "      <th>195984</th>\n",
       "      <td>-0.177357</td>\n",
       "      <td>0.165028</td>\n",
       "      <td>0.068076</td>\n",
       "      <td>0.076159</td>\n",
       "    </tr>\n",
       "    <tr>\n",
       "      <th>196026</th>\n",
       "      <td>-0.270356</td>\n",
       "      <td>0.030928</td>\n",
       "      <td>0.018795</td>\n",
       "      <td>0.307825</td>\n",
       "    </tr>\n",
       "    <tr>\n",
       "      <th>196029</th>\n",
       "      <td>-0.177357</td>\n",
       "      <td>-0.036723</td>\n",
       "      <td>0.134974</td>\n",
       "      <td>0.076159</td>\n",
       "    </tr>\n",
       "    <tr>\n",
       "      <th>196051</th>\n",
       "      <td>0.004552</td>\n",
       "      <td>0.120051</td>\n",
       "      <td>0.068076</td>\n",
       "      <td>-0.066884</td>\n",
       "    </tr>\n",
       "    <tr>\n",
       "      <th>196053</th>\n",
       "      <td>-0.134241</td>\n",
       "      <td>0.030928</td>\n",
       "      <td>0.018795</td>\n",
       "      <td>-0.007007</td>\n",
       "    </tr>\n",
       "  </tbody>\n",
       "</table>\n",
       "<p>15786 rows × 4 columns</p>\n",
       "</div>"
      ],
      "text/plain": [
       "        encoded_field1  encoded_field2  encoded_field3  encoded_field4\n",
       "16           -0.035520       -0.055500        0.042379        0.076159\n",
       "22           -0.227570       -0.286093       -0.237577       -0.274263\n",
       "24           -0.270356        0.030928        0.138657        0.076159\n",
       "78           -0.177357        0.165028       -0.097532        0.076159\n",
       "84           -0.512491        0.165028       -0.097532        0.076159\n",
       "...                ...             ...             ...             ...\n",
       "195984       -0.177357        0.165028        0.068076        0.076159\n",
       "196026       -0.270356        0.030928        0.018795        0.307825\n",
       "196029       -0.177357       -0.036723        0.134974        0.076159\n",
       "196051        0.004552        0.120051        0.068076       -0.066884\n",
       "196053       -0.134241        0.030928        0.018795       -0.007007\n",
       "\n",
       "[15786 rows x 4 columns]"
      ]
     },
     "execution_count": 6,
     "metadata": {},
     "output_type": "execute_result"
    }
   ],
   "source": [
    "# predict X_test dataset (mean prediction from all models)\n",
    "simple_encoder.predict(X_val)"
   ]
  },
  {
   "cell_type": "markdown",
   "metadata": {},
   "source": [
    "## CrossTargetEncoder example"
   ]
  },
  {
   "cell_type": "code",
   "execution_count": 7,
   "metadata": {
    "ExecuteTime": {
     "end_time": "2020-02-14T13:07:46.391763Z",
     "start_time": "2020-02-14T13:07:46.385874Z"
    }
   },
   "outputs": [],
   "source": [
    "# Same as TargetEncoder but have `iterator` parameter\n",
    "# same 'iterator' will be passed to CrossLightgbmModel to match cross validation folds"
   ]
  },
  {
   "cell_type": "code",
   "execution_count": 7,
   "metadata": {
    "ExecuteTime": {
     "end_time": "2020-02-14T14:09:29.184138Z",
     "start_time": "2020-02-14T14:09:27.103650Z"
    }
   },
   "outputs": [
    {
     "name": "stderr",
     "output_type": "stream",
     "text": [
      "Using RepeatedKFold by column group \"userid\"\n"
     ]
    }
   ],
   "source": [
    "iter_df = Iterator(n_repeats=1,\n",
    "                    n_splits=3,\n",
    "                    random_state = 0,\n",
    "                    col_client = 'userid',\n",
    "                    cv_byclient=True)\n",
    "\n",
    "cross_encoder = CrossTargetEncoder(iterator = iter_df,\n",
    "                                    encoder_class=WOEEncoder,\n",
    "                                    n_splits= 3,\n",
    "                                    n_repeats= 1,\n",
    "                                    random_state= 0,\n",
    "                                    col_client= 'userid',\n",
    "                                    cv_byclient= True,\n",
    "                                    col_encoded= 'goal1',\n",
    "                                    cols= ['field3','field2','field11','field23','field18','field20']\n",
    "                                  )\n",
    "cross_encoder.fit(train)"
   ]
  },
  {
   "cell_type": "code",
   "execution_count": 8,
   "metadata": {
    "ExecuteTime": {
     "end_time": "2020-02-14T14:09:34.211245Z",
     "start_time": "2020-02-14T14:09:33.709014Z"
    }
   },
   "outputs": [],
   "source": [
    "# transform method gets `fold` parameter - number of fold to get\n",
    "\n",
    "X_train, X_val = next(iter_df.split(train))\n",
    "\n",
    "encoded_train, encoded_test = cross_encoder.transform(fold=0, train=X_train, test=X_val)"
   ]
  },
  {
   "cell_type": "code",
   "execution_count": 9,
   "metadata": {
    "ExecuteTime": {
     "end_time": "2020-02-14T14:09:35.524790Z",
     "start_time": "2020-02-14T14:09:35.191772Z"
    }
   },
   "outputs": [
    {
     "data": {
      "text/html": [
       "<div>\n",
       "<style scoped>\n",
       "    .dataframe tbody tr th:only-of-type {\n",
       "        vertical-align: middle;\n",
       "    }\n",
       "\n",
       "    .dataframe tbody tr th {\n",
       "        vertical-align: top;\n",
       "    }\n",
       "\n",
       "    .dataframe thead th {\n",
       "        text-align: right;\n",
       "    }\n",
       "</style>\n",
       "<table border=\"1\" class=\"dataframe\">\n",
       "  <thead>\n",
       "    <tr style=\"text-align: right;\">\n",
       "      <th></th>\n",
       "      <th>encoded_field3</th>\n",
       "      <th>encoded_field2</th>\n",
       "      <th>encoded_field11</th>\n",
       "      <th>encoded_field23</th>\n",
       "      <th>encoded_field18</th>\n",
       "      <th>encoded_field20</th>\n",
       "    </tr>\n",
       "  </thead>\n",
       "  <tbody>\n",
       "    <tr>\n",
       "      <th>3</th>\n",
       "      <td>-0.140829</td>\n",
       "      <td>-0.075079</td>\n",
       "      <td>0.010212</td>\n",
       "      <td>0.078315</td>\n",
       "      <td>0.005202</td>\n",
       "      <td>-0.003783</td>\n",
       "    </tr>\n",
       "    <tr>\n",
       "      <th>6</th>\n",
       "      <td>-0.066498</td>\n",
       "      <td>-0.075079</td>\n",
       "      <td>-0.053754</td>\n",
       "      <td>0.154461</td>\n",
       "      <td>-0.042450</td>\n",
       "      <td>0.005543</td>\n",
       "    </tr>\n",
       "    <tr>\n",
       "      <th>9</th>\n",
       "      <td>0.021738</td>\n",
       "      <td>-0.229410</td>\n",
       "      <td>0.010212</td>\n",
       "      <td>0.078315</td>\n",
       "      <td>-0.042315</td>\n",
       "      <td>-0.020129</td>\n",
       "    </tr>\n",
       "    <tr>\n",
       "      <th>12</th>\n",
       "      <td>-0.081345</td>\n",
       "      <td>0.181179</td>\n",
       "      <td>-0.148919</td>\n",
       "      <td>0.078315</td>\n",
       "      <td>-0.015237</td>\n",
       "      <td>0.019826</td>\n",
       "    </tr>\n",
       "    <tr>\n",
       "      <th>14</th>\n",
       "      <td>-0.261834</td>\n",
       "      <td>-0.296218</td>\n",
       "      <td>-0.031003</td>\n",
       "      <td>-0.035564</td>\n",
       "      <td>-0.042315</td>\n",
       "      <td>-0.020129</td>\n",
       "    </tr>\n",
       "    <tr>\n",
       "      <th>...</th>\n",
       "      <td>...</td>\n",
       "      <td>...</td>\n",
       "      <td>...</td>\n",
       "      <td>...</td>\n",
       "      <td>...</td>\n",
       "      <td>...</td>\n",
       "    </tr>\n",
       "    <tr>\n",
       "      <th>196039</th>\n",
       "      <td>0.042939</td>\n",
       "      <td>-0.035236</td>\n",
       "      <td>-0.036774</td>\n",
       "      <td>-0.103551</td>\n",
       "      <td>-0.042315</td>\n",
       "      <td>-0.020129</td>\n",
       "    </tr>\n",
       "    <tr>\n",
       "      <th>196042</th>\n",
       "      <td>0.062696</td>\n",
       "      <td>0.098558</td>\n",
       "      <td>0.013271</td>\n",
       "      <td>-0.049208</td>\n",
       "      <td>-0.042450</td>\n",
       "      <td>-0.003783</td>\n",
       "    </tr>\n",
       "    <tr>\n",
       "      <th>196045</th>\n",
       "      <td>0.042939</td>\n",
       "      <td>-0.035236</td>\n",
       "      <td>0.098156</td>\n",
       "      <td>-0.092917</td>\n",
       "      <td>-0.042450</td>\n",
       "      <td>0.028625</td>\n",
       "    </tr>\n",
       "    <tr>\n",
       "      <th>196046</th>\n",
       "      <td>0.042939</td>\n",
       "      <td>-0.035236</td>\n",
       "      <td>-0.007281</td>\n",
       "      <td>-0.035905</td>\n",
       "      <td>0.116902</td>\n",
       "      <td>0.028625</td>\n",
       "    </tr>\n",
       "    <tr>\n",
       "      <th>196048</th>\n",
       "      <td>0.159724</td>\n",
       "      <td>-0.293333</td>\n",
       "      <td>0.098156</td>\n",
       "      <td>-0.035905</td>\n",
       "      <td>0.005202</td>\n",
       "      <td>-0.003783</td>\n",
       "    </tr>\n",
       "  </tbody>\n",
       "</table>\n",
       "<p>38859 rows × 6 columns</p>\n",
       "</div>"
      ],
      "text/plain": [
       "        encoded_field3  encoded_field2  encoded_field11  encoded_field23  \\\n",
       "3            -0.140829       -0.075079         0.010212         0.078315   \n",
       "6            -0.066498       -0.075079        -0.053754         0.154461   \n",
       "9             0.021738       -0.229410         0.010212         0.078315   \n",
       "12           -0.081345        0.181179        -0.148919         0.078315   \n",
       "14           -0.261834       -0.296218        -0.031003        -0.035564   \n",
       "...                ...             ...              ...              ...   \n",
       "196039        0.042939       -0.035236        -0.036774        -0.103551   \n",
       "196042        0.062696        0.098558         0.013271        -0.049208   \n",
       "196045        0.042939       -0.035236         0.098156        -0.092917   \n",
       "196046        0.042939       -0.035236        -0.007281        -0.035905   \n",
       "196048        0.159724       -0.293333         0.098156        -0.035905   \n",
       "\n",
       "        encoded_field18  encoded_field20  \n",
       "3              0.005202        -0.003783  \n",
       "6             -0.042450         0.005543  \n",
       "9             -0.042315        -0.020129  \n",
       "12            -0.015237         0.019826  \n",
       "14            -0.042315        -0.020129  \n",
       "...                 ...              ...  \n",
       "196039        -0.042315        -0.020129  \n",
       "196042        -0.042450        -0.003783  \n",
       "196045        -0.042450         0.028625  \n",
       "196046         0.116902         0.028625  \n",
       "196048         0.005202        -0.003783  \n",
       "\n",
       "[38859 rows x 6 columns]"
      ]
     },
     "execution_count": 9,
     "metadata": {},
     "output_type": "execute_result"
    }
   ],
   "source": [
    "# predict method for out test dataset (mean prediction from all models from all TargetEncoders)\n",
    "cross_encoder.predict(test)"
   ]
  },
  {
   "cell_type": "code",
   "execution_count": 10,
   "metadata": {
    "ExecuteTime": {
     "end_time": "2020-02-14T14:09:37.760090Z",
     "start_time": "2020-02-14T14:09:37.749676Z"
    }
   },
   "outputs": [
    {
     "data": {
      "text/html": [
       "['encoded_field3', 'encoded_field2', 'encoded_field11', 'encoded_field23', 'encoded_field18', 'encoded_field20']"
      ],
      "text/plain": [
       "['encoded_field3',\n",
       " 'encoded_field2',\n",
       " 'encoded_field11',\n",
       " 'encoded_field23',\n",
       " 'encoded_field18',\n",
       " 'encoded_field20']"
      ]
     },
     "execution_count": 10,
     "metadata": {},
     "output_type": "execute_result"
    }
   ],
   "source": [
    "# get list of new columns\n",
    "cross_encoder._targetencoded_cols"
   ]
  },
  {
   "cell_type": "code",
   "execution_count": 11,
   "metadata": {
    "ExecuteTime": {
     "end_time": "2020-02-14T14:09:38.334649Z",
     "start_time": "2020-02-14T14:09:38.316326Z"
    }
   },
   "outputs": [],
   "source": [
    "feature_name = df.columns.values\n",
    "feature_name = np.delete(feature_name, np.argwhere(feature_name == 'goal1'))\n",
    "feature_name = np.delete(feature_name, np.argwhere(feature_name == 'orderid'))\n",
    "feature_name = np.delete(feature_name, np.argwhere(feature_name == 'userid'))\n",
    "\n",
    "feature_name = np.append(feature_name,cross_encoder._targetencoded_cols)\n",
    "params= {'bagging_fraction': 0.849285747554019,\n",
    "  'bagging_freq': 5,\n",
    "  'bagging_seed': 0,\n",
    "  'boosting_type': 'gbdt',\n",
    "  'data_random_seed': 0,\n",
    "  'drop_seed': 0,\n",
    "  'feature_fraction': 0.8212766928844304,\n",
    "  'feature_fraction_seed': 0,\n",
    "  'lambda_l1': 0.8955546599539566,\n",
    "  'lambda_l2': 1.4423261095989717,\n",
    "  'learning_rate': 0.03,\n",
    "  'max_bin': 255,\n",
    "  'max_depth': 43,\n",
    "  'metric': 'auc',\n",
    "  'min_data_in_leaf': 149,\n",
    "  'min_sum_hessian_in_leaf': 1.804477623298885,\n",
    "  'num_leaves': 363,\n",
    "  'objective': 'binary',\n",
    "  'seed': 0,\n",
    "  'verbose': -1}"
   ]
  },
  {
   "cell_type": "code",
   "execution_count": 12,
   "metadata": {
    "ExecuteTime": {
     "end_time": "2020-02-14T14:09:52.381011Z",
     "start_time": "2020-02-14T14:09:39.191100Z"
    },
    "scrolled": true
   },
   "outputs": [
    {
     "name": "stderr",
     "output_type": "stream",
     "text": [
      "INFO:crosspredict.crossval._crossval:{'bagging_fraction': 0.849285747554019, 'bagging_freq': 5, 'bagging_seed': 0, 'boosting_type': 'gbdt', 'data_random_seed': 0, 'drop_seed': 0, 'feature_fraction': 0.8212766928844304, 'feature_fraction_seed': 0, 'lambda_l1': 0.8955546599539566, 'lambda_l2': 1.4423261095989717, 'learning_rate': 0.03, 'max_bin': 255, 'max_depth': 43, 'metric': 'auc', 'min_data_in_leaf': 149, 'min_sum_hessian_in_leaf': 1.804477623298885, 'num_leaves': 363, 'objective': 'binary', 'seed': 0, 'verbose': -1}\n",
      "INFO:crosspredict.crossval._crossval:REPEAT FOLDS 0 START\n",
      "INFO:crosspredict.crossval._crossval:\tCROSSVALIDATION FOLD 0 ENDS with best ROCAUC = 0.69380416031959\n",
      "INFO:crosspredict.crossval._crossval:\tCROSSVALIDATION FOLD 1 ENDS with best ROCAUC = 0.7019798370214689\n",
      "INFO:crosspredict.crossval._crossval:\tCROSSVALIDATION FOLD 2 ENDS with best ROCAUC = 0.7025274328889723\n",
      "INFO:crosspredict.crossval._crossval:{'loss': -0.6988591595331693, 'status': 'ok', 'std': 0.005149967831115862, 'score_max': 0.6988591595331693, 'scores_all': [0.69380416031959, 0.7019798370214689, 0.7025274328889723], 'num_boost': 64}\n"
     ]
    }
   ],
   "source": [
    "model_class = CrossLightgbmModel(iterator=iter_df, \n",
    "                                 feature_name=feature_name,\n",
    "                                params=params,\n",
    "                                cols_cat = ['field3', 'field2', 'field11', 'field23', 'field18', 'field20'],\n",
    "                                num_boost_round = 9999,\n",
    "                                early_stopping_rounds = 50,\n",
    "                                valid = True,\n",
    "                                random_state = 0,\n",
    "                                col_target = 'goal1',\n",
    "                                cross_target_encoder = cross_encoder)\n",
    "result = model_class.fit(train)"
   ]
  },
  {
   "cell_type": "code",
   "execution_count": 13,
   "metadata": {
    "ExecuteTime": {
     "end_time": "2020-02-14T14:09:57.017351Z",
     "start_time": "2020-02-14T14:09:56.469129Z"
    }
   },
   "outputs": [
    {
     "name": "stdout",
     "output_type": "stream",
     "text": [
      "0.7153827793509867 {'loss': -0.6988591595331693, 'status': 'ok', 'std': 0.005149967831115862, 'score_max': 0.6988591595331693, 'scores_all': [0.69380416031959, 0.7019798370214689, 0.7025274328889723], 'num_boost': 64}\n"
     ]
    }
   ],
   "source": [
    "print(roc_auc_score(test['goal1'],model_class.predict(test)), result)"
   ]
  },
  {
   "cell_type": "code",
   "execution_count": null,
   "metadata": {},
   "outputs": [],
   "source": []
  }
 ],
 "metadata": {
  "kernelspec": {
   "display_name": "Python (crosspredict)",
   "language": "python",
   "name": "crosspredict"
  },
  "language_info": {
   "codemirror_mode": {
    "name": "ipython",
    "version": 3
   },
   "file_extension": ".py",
   "mimetype": "text/x-python",
   "name": "python",
   "nbconvert_exporter": "python",
   "pygments_lexer": "ipython3",
   "version": "3.7.6"
  },
  "toc": {
   "base_numbering": 1,
   "nav_menu": {},
   "number_sections": true,
   "sideBar": true,
   "skip_h1_title": false,
   "title_cell": "Table of Contents",
   "title_sidebar": "Contents",
   "toc_cell": false,
   "toc_position": {},
   "toc_section_display": true,
   "toc_window_display": false
  }
 },
 "nbformat": 4,
 "nbformat_minor": 2
}
