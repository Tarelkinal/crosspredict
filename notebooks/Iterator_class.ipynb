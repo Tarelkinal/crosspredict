{
 "cells": [
  {
   "cell_type": "markdown",
   "metadata": {},
   "source": [
    "# Iterator class"
   ]
  },
  {
   "cell_type": "markdown",
   "metadata": {},
   "source": [
    "`Iterator` - class that implements 3 different crossvalidation strategies:\n",
    "* crossvalidation by users (RepeatedKFold)\n",
    "* stratified crossvalidation by target column (RepeatedStratifiedKFold)\n",
    "* simple crossvalidation (RepeatedKFold)"
   ]
  },
  {
   "cell_type": "markdown",
   "metadata": {},
   "source": [
    "## Imports"
   ]
  },
  {
   "cell_type": "code",
   "execution_count": 1,
   "metadata": {
    "ExecuteTime": {
     "end_time": "2020-01-21T14:20:34.474724Z",
     "start_time": "2020-01-21T14:20:32.985116Z"
    }
   },
   "outputs": [],
   "source": [
    "import pandas as pd\n",
    "import os\n",
    "import requests\n",
    "import numpy as np\n",
    "import yaml\n",
    "import logging\n",
    "from sklearn.metrics import roc_auc_score\n",
    "from crosspredict.iterator import Iterator\n",
    "from crosspredict.crossval import CrossLightgbmModel\n",
    "logging.basicConfig(level=logging.INFO)"
   ]
  },
  {
   "cell_type": "markdown",
   "metadata": {},
   "source": [
    "## Load data"
   ]
  },
  {
   "cell_type": "code",
   "execution_count": 2,
   "metadata": {
    "ExecuteTime": {
     "end_time": "2020-01-21T14:20:35.752380Z",
     "start_time": "2020-01-21T14:20:34.489834Z"
    }
   },
   "outputs": [],
   "source": [
    "file_url = 'https://boosters.pro/api/ch/files/pub/onetwotrip_challenge_train.csv'\n",
    "file_path = '../tests/onetwotrip_challenge_train.csv'\n",
    "if os.path.isfile(file_path)!=True:\n",
    "    myfile = requests.get(file_url)\n",
    "    open(file_path, 'wb').write(myfile.content)\n",
    "    \n",
    "df = pd.read_csv('../tests/onetwotrip_challenge_train.csv')\n",
    "\n",
    "\n",
    "unique_clients = pd.Series(df['userid'].unique())\n",
    "test_users = unique_clients.sample(frac=0.2,random_state=0)\n",
    "val_idx = df['userid'].isin(test_users)\n",
    "test = df[val_idx].copy()\n",
    "train = df[~val_idx].copy()"
   ]
  },
  {
   "cell_type": "markdown",
   "metadata": {},
   "source": [
    "## Crossvalidation by col_client column (rows from each users goes in specific fold)"
   ]
  },
  {
   "cell_type": "code",
   "execution_count": 3,
   "metadata": {
    "ExecuteTime": {
     "end_time": "2020-01-21T14:20:38.932740Z",
     "start_time": "2020-01-21T14:20:35.757245Z"
    }
   },
   "outputs": [
    {
     "name": "stderr",
     "output_type": "stream",
     "text": [
      "Using RepeatedKFold by column group \"userid\"\n"
     ]
    }
   ],
   "source": [
    "iter_df = Iterator(n_repeats=3,\n",
    "                    n_splits=10,\n",
    "                    random_state = 0,\n",
    "                    col_client = 'userid',\n",
    "                    cv_byclient=True)\n",
    "\n",
    "for i, (X_train, X_val) in enumerate(iter_df.split(train)):\n",
    "    pass"
   ]
  },
  {
   "cell_type": "markdown",
   "metadata": {},
   "source": [
    "## Stratified CrossValidation by `col_target`"
   ]
  },
  {
   "cell_type": "code",
   "execution_count": 4,
   "metadata": {
    "ExecuteTime": {
     "end_time": "2020-01-21T14:20:42.866476Z",
     "start_time": "2020-01-21T14:20:38.934493Z"
    }
   },
   "outputs": [
    {
     "name": "stderr",
     "output_type": "stream",
     "text": [
      "Using RepeatedStratifiedKFold by column group \"goal1\"\n"
     ]
    }
   ],
   "source": [
    "iter_df = Iterator(n_repeats=3,\n",
    "                        n_splits=10,\n",
    "                        random_state = 0,\n",
    "                       col_target = 'goal1',\n",
    "                       cv_byclient=False)\n",
    "\n",
    "for i, (X_train, X_val) in enumerate(iter_df.split(train)):\n",
    "    pass"
   ]
  },
  {
   "cell_type": "markdown",
   "metadata": {},
   "source": [
    "## Simple CrossValidation"
   ]
  },
  {
   "cell_type": "code",
   "execution_count": 5,
   "metadata": {
    "ExecuteTime": {
     "end_time": "2020-01-21T14:20:46.947156Z",
     "start_time": "2020-01-21T14:20:42.872330Z"
    }
   },
   "outputs": [
    {
     "name": "stderr",
     "output_type": "stream",
     "text": [
      "Using RepeatedKFold by all data\n"
     ]
    }
   ],
   "source": [
    "iter_df = Iterator(n_repeats=3,\n",
    "                        n_splits=10,\n",
    "                        random_state = 0,\n",
    "                       cv_byclient=False)\n",
    "\n",
    "for i, (X_train, X_val) in enumerate(iter_df.split(train)):\n",
    "    pass"
   ]
  }
 ],
 "metadata": {
  "kernelspec": {
   "display_name": "Python (test_cross)",
   "language": "python",
   "name": "test_cross"
  },
  "language_info": {
   "codemirror_mode": {
    "name": "ipython",
    "version": 3
   },
   "file_extension": ".py",
   "mimetype": "text/x-python",
   "name": "python",
   "nbconvert_exporter": "python",
   "pygments_lexer": "ipython3",
   "version": "3.7.6"
  },
  "toc": {
   "base_numbering": 1,
   "nav_menu": {},
   "number_sections": true,
   "sideBar": true,
   "skip_h1_title": false,
   "title_cell": "Table of Contents",
   "title_sidebar": "Contents",
   "toc_cell": false,
   "toc_position": {},
   "toc_section_display": true,
   "toc_window_display": false
  }
 },
 "nbformat": 4,
 "nbformat_minor": 2
}
